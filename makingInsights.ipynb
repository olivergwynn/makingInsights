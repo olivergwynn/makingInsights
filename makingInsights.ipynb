{
 "cells": [
  {
   "cell_type": "markdown",
   "id": "3fc55a6b-74ce-458c-8ff6-7ce7e7222f96",
   "metadata": {},
   "source": [
    "# Race/ethnicity by year"
   ]
  },
  {
   "cell_type": "markdown",
   "id": "9816eab0-3638-4731-be1f-9eda88611f9d",
   "metadata": {},
   "source": [
    "## Setup"
   ]
  },
  {
   "cell_type": "markdown",
   "id": "6c7c0c7e-4db2-422b-8e4f-df148956410c",
   "metadata": {},
   "source": [
    "### Packages"
   ]
  },
  {
   "cell_type": "code",
   "execution_count": 78,
   "id": "c261336c-de57-4840-80a6-b2997221ffb8",
   "metadata": {},
   "outputs": [],
   "source": [
    "import pandas as pd\n",
    "import os\n",
    "import matplotlib.pyplot as plt\n",
    "import sys\n",
    "sys.path.append(os.path.normpath(\"../morpc-common\"))\n",
    "import morpc"
   ]
  },
  {
   "cell_type": "code",
   "execution_count": 79,
   "id": "c3ae51c4-c57f-4eef-9f6b-84f373130151",
   "metadata": {},
   "outputs": [
    {
     "name": "stdout",
     "output_type": "stream",
     "text": [
      "Current Working Directory: C:\\Users\\ogwynn\\OneDrive - Mid-Ohio Regional Planning Commission\\Desktop\\LocalRepo\\makingInsights\n"
     ]
    }
   ],
   "source": [
    "current_directory = os.getcwd()\n",
    "print(\"Current Working Directory:\", current_directory)"
   ]
  },
  {
   "cell_type": "markdown",
   "id": "9113e01d-5c47-4dd1-a9a3-70b058c31d08",
   "metadata": {},
   "source": [
    "### Paths"
   ]
  },
  {
   "cell_type": "code",
   "execution_count": 80,
   "id": "caa744cb-59c4-48a0-9e31-41a9cfb269f8",
   "metadata": {},
   "outputs": [
    {
     "data": {
      "text/html": [
       "<div>\n",
       "<style scoped>\n",
       "    .dataframe tbody tr th:only-of-type {\n",
       "        vertical-align: middle;\n",
       "    }\n",
       "\n",
       "    .dataframe tbody tr th {\n",
       "        vertical-align: top;\n",
       "    }\n",
       "\n",
       "    .dataframe thead th {\n",
       "        text-align: right;\n",
       "    }\n",
       "</style>\n",
       "<table border=\"1\" class=\"dataframe\">\n",
       "  <thead>\n",
       "    <tr style=\"text-align: right;\">\n",
       "      <th></th>\n",
       "      <th>GEOID</th>\n",
       "      <th>STATE</th>\n",
       "      <th>COUNTY</th>\n",
       "      <th>SEX</th>\n",
       "      <th>RACE</th>\n",
       "      <th>AGEGROUP</th>\n",
       "      <th>SOURCE</th>\n",
       "      <th>VINTAGE</th>\n",
       "      <th>YEAR</th>\n",
       "      <th>POP</th>\n",
       "    </tr>\n",
       "  </thead>\n",
       "  <tbody>\n",
       "    <tr>\n",
       "      <th>0</th>\n",
       "      <td>39001</td>\n",
       "      <td>Ohio</td>\n",
       "      <td>Adams</td>\n",
       "      <td>F</td>\n",
       "      <td>AA</td>\n",
       "      <td>0 to 4</td>\n",
       "      <td>INT</td>\n",
       "      <td>2012</td>\n",
       "      <td>2000</td>\n",
       "      <td>1</td>\n",
       "    </tr>\n",
       "    <tr>\n",
       "      <th>1</th>\n",
       "      <td>39001</td>\n",
       "      <td>Ohio</td>\n",
       "      <td>Adams</td>\n",
       "      <td>F</td>\n",
       "      <td>AA</td>\n",
       "      <td>0 to 4</td>\n",
       "      <td>INT</td>\n",
       "      <td>2012</td>\n",
       "      <td>2001</td>\n",
       "      <td>1</td>\n",
       "    </tr>\n",
       "    <tr>\n",
       "      <th>2</th>\n",
       "      <td>39001</td>\n",
       "      <td>Ohio</td>\n",
       "      <td>Adams</td>\n",
       "      <td>F</td>\n",
       "      <td>AA</td>\n",
       "      <td>0 to 4</td>\n",
       "      <td>INT</td>\n",
       "      <td>2012</td>\n",
       "      <td>2002</td>\n",
       "      <td>1</td>\n",
       "    </tr>\n",
       "    <tr>\n",
       "      <th>3</th>\n",
       "      <td>39001</td>\n",
       "      <td>Ohio</td>\n",
       "      <td>Adams</td>\n",
       "      <td>F</td>\n",
       "      <td>AA</td>\n",
       "      <td>0 to 4</td>\n",
       "      <td>INT</td>\n",
       "      <td>2012</td>\n",
       "      <td>2003</td>\n",
       "      <td>1</td>\n",
       "    </tr>\n",
       "    <tr>\n",
       "      <th>4</th>\n",
       "      <td>39001</td>\n",
       "      <td>Ohio</td>\n",
       "      <td>Adams</td>\n",
       "      <td>F</td>\n",
       "      <td>AA</td>\n",
       "      <td>0 to 4</td>\n",
       "      <td>INT</td>\n",
       "      <td>2012</td>\n",
       "      <td>2004</td>\n",
       "      <td>1</td>\n",
       "    </tr>\n",
       "  </tbody>\n",
       "</table>\n",
       "</div>"
      ],
      "text/plain": [
       "   GEOID STATE COUNTY SEX RACE AGEGROUP SOURCE  VINTAGE  YEAR  POP\n",
       "0  39001  Ohio  Adams   F   AA   0 to 4    INT     2012  2000    1\n",
       "1  39001  Ohio  Adams   F   AA   0 to 4    INT     2012  2001    1\n",
       "2  39001  Ohio  Adams   F   AA   0 to 4    INT     2012  2002    1\n",
       "3  39001  Ohio  Adams   F   AA   0 to 4    INT     2012  2003    1\n",
       "4  39001  Ohio  Adams   F   AA   0 to 4    INT     2012  2004    1"
      ]
     },
     "execution_count": 80,
     "metadata": {},
     "output_type": "execute_result"
    }
   ],
   "source": [
    "INPUT_DATA_PATH = \"inputData/censusPep_county_char.csv\"\n",
    "\n",
    "TEMP_OUTPUT_CSV_PATH =\"outputData/TEMP.csv\"\n",
    "\n",
    "REGIONAL_SUMMARY_DATA_PATH = \"outputData/censusPep_county_char_15Region.csv\"\n",
    "\n",
    "REGIONAL_SUMMARY_DATA_LABELED_PATH = \"outputData/censusPep_county_char_labeled_15Region.csv\"\n",
    "\n",
    "data1 = pd.read_csv(INPUT_DATA_PATH)\n",
    "\n",
    "data1.to_csv(TEMP_OUTPUT_CSV_PATH, index=False)\n",
    "\n",
    "data1.head()"
   ]
  },
  {
   "cell_type": "markdown",
   "id": "0005df01-0819-45cb-8ec3-a09cd2b664f5",
   "metadata": {},
   "source": [
    "## Filtering"
   ]
  },
  {
   "cell_type": "markdown",
   "id": "0c82f904-d662-460c-9bcb-493161da030e",
   "metadata": {},
   "source": [
    "### Filtering for 15 county"
   ]
  },
  {
   "cell_type": "code",
   "execution_count": 81,
   "id": "6ade5487-5b37-4a37-85f8-d1b3f026a575",
   "metadata": {},
   "outputs": [
    {
     "data": {
      "text/html": [
       "<div>\n",
       "<style scoped>\n",
       "    .dataframe tbody tr th:only-of-type {\n",
       "        vertical-align: middle;\n",
       "    }\n",
       "\n",
       "    .dataframe tbody tr th {\n",
       "        vertical-align: top;\n",
       "    }\n",
       "\n",
       "    .dataframe thead th {\n",
       "        text-align: right;\n",
       "    }\n",
       "</style>\n",
       "<table border=\"1\" class=\"dataframe\">\n",
       "  <thead>\n",
       "    <tr style=\"text-align: right;\">\n",
       "      <th></th>\n",
       "      <th>GEOID</th>\n",
       "      <th>STATE</th>\n",
       "      <th>COUNTY</th>\n",
       "      <th>SEX</th>\n",
       "      <th>RACE</th>\n",
       "      <th>AGEGROUP</th>\n",
       "      <th>SOURCE</th>\n",
       "      <th>VINTAGE</th>\n",
       "      <th>YEAR</th>\n",
       "      <th>POP</th>\n",
       "    </tr>\n",
       "  </thead>\n",
       "  <tbody>\n",
       "    <tr>\n",
       "      <th>178210</th>\n",
       "      <td>39041</td>\n",
       "      <td>Ohio</td>\n",
       "      <td>Delaware</td>\n",
       "      <td>F</td>\n",
       "      <td>AA</td>\n",
       "      <td>0 to 4</td>\n",
       "      <td>INT</td>\n",
       "      <td>2012</td>\n",
       "      <td>2010</td>\n",
       "      <td>389</td>\n",
       "    </tr>\n",
       "    <tr>\n",
       "      <th>178221</th>\n",
       "      <td>39041</td>\n",
       "      <td>Ohio</td>\n",
       "      <td>Delaware</td>\n",
       "      <td>F</td>\n",
       "      <td>AA</td>\n",
       "      <td>10 to 14</td>\n",
       "      <td>INT</td>\n",
       "      <td>2012</td>\n",
       "      <td>2010</td>\n",
       "      <td>274</td>\n",
       "    </tr>\n",
       "    <tr>\n",
       "      <th>178232</th>\n",
       "      <td>39041</td>\n",
       "      <td>Ohio</td>\n",
       "      <td>Delaware</td>\n",
       "      <td>F</td>\n",
       "      <td>AA</td>\n",
       "      <td>15 to 19</td>\n",
       "      <td>INT</td>\n",
       "      <td>2012</td>\n",
       "      <td>2010</td>\n",
       "      <td>187</td>\n",
       "    </tr>\n",
       "    <tr>\n",
       "      <th>178243</th>\n",
       "      <td>39041</td>\n",
       "      <td>Ohio</td>\n",
       "      <td>Delaware</td>\n",
       "      <td>F</td>\n",
       "      <td>AA</td>\n",
       "      <td>20 to 24</td>\n",
       "      <td>INT</td>\n",
       "      <td>2012</td>\n",
       "      <td>2010</td>\n",
       "      <td>139</td>\n",
       "    </tr>\n",
       "    <tr>\n",
       "      <th>178254</th>\n",
       "      <td>39041</td>\n",
       "      <td>Ohio</td>\n",
       "      <td>Delaware</td>\n",
       "      <td>F</td>\n",
       "      <td>AA</td>\n",
       "      <td>25 to 29</td>\n",
       "      <td>INT</td>\n",
       "      <td>2012</td>\n",
       "      <td>2010</td>\n",
       "      <td>278</td>\n",
       "    </tr>\n",
       "  </tbody>\n",
       "</table>\n",
       "</div>"
      ],
      "text/plain": [
       "        GEOID STATE    COUNTY SEX RACE  AGEGROUP SOURCE  VINTAGE  YEAR  POP\n",
       "178210  39041  Ohio  Delaware   F   AA    0 to 4    INT     2012  2010  389\n",
       "178221  39041  Ohio  Delaware   F   AA  10 to 14    INT     2012  2010  274\n",
       "178232  39041  Ohio  Delaware   F   AA  15 to 19    INT     2012  2010  187\n",
       "178243  39041  Ohio  Delaware   F   AA  20 to 24    INT     2012  2010  139\n",
       "178254  39041  Ohio  Delaware   F   AA  25 to 29    INT     2012  2010  278"
      ]
     },
     "execution_count": 81,
     "metadata": {},
     "output_type": "execute_result"
    }
   ],
   "source": [
    "# List of counties to filter by\n",
    "selected_counties = [\n",
    "    \"Delaware\", \"Fairfield\", \"Fayette\", \"Franklin\", \"Hocking\", \"Knox\", \"Licking\", \n",
    "    \"Logan\", \"Madison\", \"Marion\", \"Morrow\", \"Perry\", \"Pickaway\", \"Ross\", \"Union\"\n",
    "]\n",
    "\n",
    "selected_years = [\n",
    "    2010, 2011, 2012, 2013, 2014, 2015, 2016, 2017, 2018, 2019, 2020, 2021, 2022, 2023\n",
    "]\n",
    "\n",
    "# Filter the dataset for the selected counties\n",
    "data2 = data1[data1['COUNTY'].isin(selected_counties)]\n",
    "\n",
    "# Filter the dataset for the selected counties\n",
    "data2 = data2[data2['YEAR'].isin(selected_years)]\n",
    "\n",
    "# Filter out rows where 'SOURCE' is 'INT' and 'YEAR' is '2010'\n",
    "data2 = data2[~((data2['SOURCE'] == 'INT') & (data2['YEAR'] == '2010'))]\n",
    "\n",
    "data2.to_csv(TEMP_OUTPUT_CSV_PATH, index=False)\n",
    "\n",
    "# Display the first few rows of the filtered data\n",
    "data2.head()"
   ]
  },
  {
   "cell_type": "markdown",
   "id": "49eb6f87-f7ef-462c-9dc3-03e48e1f67e9",
   "metadata": {},
   "source": [
    "### Summing by 15 County"
   ]
  },
  {
   "cell_type": "code",
   "execution_count": 82,
   "id": "cfa8bb11-dfa5-4ff9-81f7-c94b47176fba",
   "metadata": {},
   "outputs": [
    {
     "data": {
      "text/html": [
       "<div>\n",
       "<style scoped>\n",
       "    .dataframe tbody tr th:only-of-type {\n",
       "        vertical-align: middle;\n",
       "    }\n",
       "\n",
       "    .dataframe tbody tr th {\n",
       "        vertical-align: top;\n",
       "    }\n",
       "\n",
       "    .dataframe thead th {\n",
       "        text-align: right;\n",
       "    }\n",
       "</style>\n",
       "<table border=\"1\" class=\"dataframe\">\n",
       "  <thead>\n",
       "    <tr style=\"text-align: right;\">\n",
       "      <th></th>\n",
       "      <th>GEOID</th>\n",
       "      <th>STATE</th>\n",
       "      <th>COUNTY</th>\n",
       "      <th>SEX</th>\n",
       "      <th>RACE</th>\n",
       "      <th>AGEGROUP</th>\n",
       "      <th>SOURCE</th>\n",
       "      <th>VINTAGE</th>\n",
       "      <th>YEAR</th>\n",
       "      <th>POP</th>\n",
       "    </tr>\n",
       "  </thead>\n",
       "  <tbody>\n",
       "    <tr>\n",
       "      <th>0</th>\n",
       "      <td>39041.0</td>\n",
       "      <td>Ohio</td>\n",
       "      <td>Delaware</td>\n",
       "      <td>F</td>\n",
       "      <td>AA</td>\n",
       "      <td>0 to 4</td>\n",
       "      <td>INT</td>\n",
       "      <td>2012.0</td>\n",
       "      <td>2010</td>\n",
       "      <td>389</td>\n",
       "    </tr>\n",
       "    <tr>\n",
       "      <th>1</th>\n",
       "      <td>39041.0</td>\n",
       "      <td>Ohio</td>\n",
       "      <td>Delaware</td>\n",
       "      <td>F</td>\n",
       "      <td>AA</td>\n",
       "      <td>10 to 14</td>\n",
       "      <td>INT</td>\n",
       "      <td>2012.0</td>\n",
       "      <td>2010</td>\n",
       "      <td>274</td>\n",
       "    </tr>\n",
       "    <tr>\n",
       "      <th>2</th>\n",
       "      <td>39041.0</td>\n",
       "      <td>Ohio</td>\n",
       "      <td>Delaware</td>\n",
       "      <td>F</td>\n",
       "      <td>AA</td>\n",
       "      <td>15 to 19</td>\n",
       "      <td>INT</td>\n",
       "      <td>2012.0</td>\n",
       "      <td>2010</td>\n",
       "      <td>187</td>\n",
       "    </tr>\n",
       "    <tr>\n",
       "      <th>3</th>\n",
       "      <td>39041.0</td>\n",
       "      <td>Ohio</td>\n",
       "      <td>Delaware</td>\n",
       "      <td>F</td>\n",
       "      <td>AA</td>\n",
       "      <td>20 to 24</td>\n",
       "      <td>INT</td>\n",
       "      <td>2012.0</td>\n",
       "      <td>2010</td>\n",
       "      <td>139</td>\n",
       "    </tr>\n",
       "    <tr>\n",
       "      <th>4</th>\n",
       "      <td>39041.0</td>\n",
       "      <td>Ohio</td>\n",
       "      <td>Delaware</td>\n",
       "      <td>F</td>\n",
       "      <td>AA</td>\n",
       "      <td>25 to 29</td>\n",
       "      <td>INT</td>\n",
       "      <td>2012.0</td>\n",
       "      <td>2010</td>\n",
       "      <td>278</td>\n",
       "    </tr>\n",
       "  </tbody>\n",
       "</table>\n",
       "</div>"
      ],
      "text/plain": [
       "     GEOID STATE    COUNTY SEX RACE  AGEGROUP SOURCE  VINTAGE  YEAR  POP\n",
       "0  39041.0  Ohio  Delaware   F   AA    0 to 4    INT   2012.0  2010  389\n",
       "1  39041.0  Ohio  Delaware   F   AA  10 to 14    INT   2012.0  2010  274\n",
       "2  39041.0  Ohio  Delaware   F   AA  15 to 19    INT   2012.0  2010  187\n",
       "3  39041.0  Ohio  Delaware   F   AA  20 to 24    INT   2012.0  2010  139\n",
       "4  39041.0  Ohio  Delaware   F   AA  25 to 29    INT   2012.0  2010  278"
      ]
     },
     "execution_count": 82,
     "metadata": {},
     "output_type": "execute_result"
    }
   ],
   "source": [
    "# Group by the relevant columns and sum the 'POP' variable\n",
    "data2_1 = data2.groupby(\n",
    "    ['SEX', 'RACE', 'AGEGROUP', 'YEAR']\n",
    ")['POP'].sum().reset_index()\n",
    "\n",
    "# Add a new column for the COUNTY identifier\n",
    "data2_1['COUNTY'] = '15County'\n",
    "\n",
    "# Rearrange columns to match the original dataset order\n",
    "data2_1 = data2_1[['COUNTY', 'SEX', 'RACE', 'AGEGROUP','YEAR', 'POP']]\n",
    "\n",
    "# Append the new '15County' entries to the filtered dataset\n",
    "data3 = pd.concat([data2, data2_1], ignore_index=True)\n",
    "\n",
    "data3.to_csv(REGIONAL_SUMMARY_DATA_PATH, index=False)\n",
    "\n",
    "# Display the first few rows of the updated data\n",
    "data3.head()"
   ]
  },
  {
   "cell_type": "markdown",
   "id": "59195a42-8ea1-4810-9113-91119824aa38",
   "metadata": {},
   "source": [
    "### Filtering for sex totals and summing for different races"
   ]
  },
  {
   "cell_type": "code",
   "execution_count": 83,
   "id": "f1d4111d-56e1-4f15-b12b-d350fdcd9049",
   "metadata": {},
   "outputs": [
    {
     "data": {
      "text/html": [
       "<div>\n",
       "<style scoped>\n",
       "    .dataframe tbody tr th:only-of-type {\n",
       "        vertical-align: middle;\n",
       "    }\n",
       "\n",
       "    .dataframe tbody tr th {\n",
       "        vertical-align: top;\n",
       "    }\n",
       "\n",
       "    .dataframe thead th {\n",
       "        text-align: right;\n",
       "    }\n",
       "</style>\n",
       "<table border=\"1\" class=\"dataframe\">\n",
       "  <thead>\n",
       "    <tr style=\"text-align: right;\">\n",
       "      <th></th>\n",
       "      <th>COUNTY</th>\n",
       "      <th>RACE</th>\n",
       "      <th>YEAR</th>\n",
       "      <th>POP</th>\n",
       "    </tr>\n",
       "  </thead>\n",
       "  <tbody>\n",
       "    <tr>\n",
       "      <th>0</th>\n",
       "      <td>15County</td>\n",
       "      <td>AA</td>\n",
       "      <td>2010</td>\n",
       "      <td>121054</td>\n",
       "    </tr>\n",
       "    <tr>\n",
       "      <th>1</th>\n",
       "      <td>15County</td>\n",
       "      <td>AA</td>\n",
       "      <td>2011</td>\n",
       "      <td>63769</td>\n",
       "    </tr>\n",
       "    <tr>\n",
       "      <th>2</th>\n",
       "      <td>15County</td>\n",
       "      <td>AA</td>\n",
       "      <td>2012</td>\n",
       "      <td>66927</td>\n",
       "    </tr>\n",
       "    <tr>\n",
       "      <th>3</th>\n",
       "      <td>15County</td>\n",
       "      <td>AA</td>\n",
       "      <td>2013</td>\n",
       "      <td>71774</td>\n",
       "    </tr>\n",
       "    <tr>\n",
       "      <th>4</th>\n",
       "      <td>15County</td>\n",
       "      <td>AA</td>\n",
       "      <td>2014</td>\n",
       "      <td>77219</td>\n",
       "    </tr>\n",
       "  </tbody>\n",
       "</table>\n",
       "</div>"
      ],
      "text/plain": [
       "     COUNTY RACE  YEAR     POP\n",
       "0  15County   AA  2010  121054\n",
       "1  15County   AA  2011   63769\n",
       "2  15County   AA  2012   66927\n",
       "3  15County   AA  2013   71774\n",
       "4  15County   AA  2014   77219"
      ]
     },
     "execution_count": 83,
     "metadata": {},
     "output_type": "execute_result"
    }
   ],
   "source": [
    "# Filter the dataset where SEX == 'TOT'\n",
    "data3_1 = data3[data3['SEX'] != 'TOT']\n",
    "\n",
    "# Group by the relevant columns and sum the 'POP' variable\n",
    "data4 = data3_1.groupby(\n",
    "    ['COUNTY', 'RACE', 'YEAR']\n",
    ")['POP'].sum().reset_index()\n",
    "\n",
    "data4.to_csv(REGIONAL_SUMMARY_DATA_PATH, index=False)\n",
    "\n",
    "# Display the first few rows of the updated data\n",
    "data4.head()"
   ]
  },
  {
   "cell_type": "markdown",
   "id": "08c83fd5-df8b-4815-9f7c-95594e2c1e6e",
   "metadata": {},
   "source": [
    "### Combining RACE NA"
   ]
  },
  {
   "cell_type": "code",
   "execution_count": 84,
   "id": "525d94a7-0988-4a28-b71c-f3d7a2736bd1",
   "metadata": {},
   "outputs": [],
   "source": [
    "# Step 1: Filter data for RACE == 'HNA' and RACE == 'NHNA'\n",
    "hna_nhna_data = data4[data4['RACE'].isin(['HNA', 'NHNA'])]\n",
    "\n",
    "# Step 2: Group by COUNTY, SOURCE, VINTAGE, and YEAR, and sum the POP\n",
    "combined_pop = hna_nhna_data.groupby(['COUNTY', 'YEAR'], as_index=False)['POP'].sum()\n",
    "\n",
    "# Step 3: Add a new column for RACE with value 'NA'\n",
    "combined_pop['RACE'] = 'NA'\n",
    "\n",
    "\n",
    "# Step 4: Append the new rows to the original data\n",
    "data5 = pd.concat([data4, combined_pop], ignore_index=True)\n",
    "\n",
    "data5.to_csv(REGIONAL_SUMMARY_DATA_LABELED_PATH, index=False)"
   ]
  },
  {
   "cell_type": "markdown",
   "id": "3e7460c1-8c34-4d43-b510-be999c8062ad",
   "metadata": {},
   "source": [
    "### Combining hispanic "
   ]
  },
  {
   "cell_type": "code",
   "execution_count": 85,
   "id": "08c6867a-51cb-4828-9604-d4a0573f244e",
   "metadata": {},
   "outputs": [],
   "source": [
    "# Step 1: Filter data for RACE == 'HNA' and RACE == 'NHNA'\n",
    "h_data = data5[data5['RACE'].isin(['HNA', 'HBA', 'HAA', 'HIA', 'HWA', 'HTOM'])]\n",
    "\n",
    "# Step 2: Group by COUNTY, SOURCE, VINTAGE, and YEAR, and sum the POP\n",
    "combined_pop = h_data.groupby(['COUNTY', 'YEAR'], as_index=False)['POP'].sum()\n",
    "\n",
    "# Step 3: Add a new column for RACE with value 'NA'\n",
    "combined_pop['RACE'] = 'HH'\n",
    "\n",
    "# Step 4: Append the new rows to the original data\n",
    "data6 = pd.concat([data5, combined_pop], ignore_index=True)\n",
    "\n",
    "data6.to_csv(REGIONAL_SUMMARY_DATA_LABELED_PATH, index=False)"
   ]
  },
  {
   "cell_type": "markdown",
   "id": "cabdca37-5b00-4971-bd1e-07f6d7480d69",
   "metadata": {},
   "source": [
    "### Combining other races (NHIA + NHNA)"
   ]
  },
  {
   "cell_type": "code",
   "execution_count": 86,
   "id": "1f124648-8e03-4800-92c6-935ff0dd01f7",
   "metadata": {},
   "outputs": [
    {
     "data": {
      "text/html": [
       "<div>\n",
       "<style scoped>\n",
       "    .dataframe tbody tr th:only-of-type {\n",
       "        vertical-align: middle;\n",
       "    }\n",
       "\n",
       "    .dataframe tbody tr th {\n",
       "        vertical-align: top;\n",
       "    }\n",
       "\n",
       "    .dataframe thead th {\n",
       "        text-align: right;\n",
       "    }\n",
       "</style>\n",
       "<table border=\"1\" class=\"dataframe\">\n",
       "  <thead>\n",
       "    <tr style=\"text-align: right;\">\n",
       "      <th></th>\n",
       "      <th>COUNTY</th>\n",
       "      <th>RACE</th>\n",
       "      <th>YEAR</th>\n",
       "      <th>POP</th>\n",
       "    </tr>\n",
       "  </thead>\n",
       "  <tbody>\n",
       "    <tr>\n",
       "      <th>0</th>\n",
       "      <td>15County</td>\n",
       "      <td>AA</td>\n",
       "      <td>2010</td>\n",
       "      <td>121054</td>\n",
       "    </tr>\n",
       "    <tr>\n",
       "      <th>1</th>\n",
       "      <td>15County</td>\n",
       "      <td>AA</td>\n",
       "      <td>2011</td>\n",
       "      <td>63769</td>\n",
       "    </tr>\n",
       "    <tr>\n",
       "      <th>2</th>\n",
       "      <td>15County</td>\n",
       "      <td>AA</td>\n",
       "      <td>2012</td>\n",
       "      <td>66927</td>\n",
       "    </tr>\n",
       "    <tr>\n",
       "      <th>3</th>\n",
       "      <td>15County</td>\n",
       "      <td>AA</td>\n",
       "      <td>2013</td>\n",
       "      <td>71774</td>\n",
       "    </tr>\n",
       "    <tr>\n",
       "      <th>4</th>\n",
       "      <td>15County</td>\n",
       "      <td>AA</td>\n",
       "      <td>2014</td>\n",
       "      <td>77219</td>\n",
       "    </tr>\n",
       "  </tbody>\n",
       "</table>\n",
       "</div>"
      ],
      "text/plain": [
       "     COUNTY RACE  YEAR     POP\n",
       "0  15County   AA  2010  121054\n",
       "1  15County   AA  2011   63769\n",
       "2  15County   AA  2012   66927\n",
       "3  15County   AA  2013   71774\n",
       "4  15County   AA  2014   77219"
      ]
     },
     "execution_count": 86,
     "metadata": {},
     "output_type": "execute_result"
    }
   ],
   "source": [
    "# Step 1: Filter data for RACE == 'HNA' and RACE == 'NHNA'\n",
    "other_data = data6[data6['RACE'].isin(['NHIA', 'NHNA'])]\n",
    "\n",
    "# Step 2: Group by COUNTY, SOURCE, VINTAGE, and YEAR, and sum the POP\n",
    "combined_pop = other_data.groupby(['COUNTY', 'YEAR'], as_index=False)['POP'].sum()\n",
    "\n",
    "# Step 3: Add a new column for RACE with value 'NA'\n",
    "combined_pop['RACE'] = 'OTHER'\n",
    "\n",
    "# Step 4: Append the new rows to the original data\n",
    "data7 = pd.concat([data6, combined_pop], ignore_index=True)\n",
    "\n",
    "data7.to_csv(REGIONAL_SUMMARY_DATA_LABELED_PATH, index=False)\n",
    "\n",
    "# Display the first few rows of the updated dataframe\n",
    "data7.head()"
   ]
  },
  {
   "cell_type": "markdown",
   "id": "5ae90cbb-e57a-4691-9bd4-3fc36c281803",
   "metadata": {},
   "source": [
    "### Proportions"
   ]
  },
  {
   "cell_type": "code",
   "execution_count": 87,
   "id": "306a34b6-1fb5-469d-9c10-85cbc717ddd0",
   "metadata": {},
   "outputs": [
    {
     "data": {
      "text/html": [
       "<div>\n",
       "<style scoped>\n",
       "    .dataframe tbody tr th:only-of-type {\n",
       "        vertical-align: middle;\n",
       "    }\n",
       "\n",
       "    .dataframe tbody tr th {\n",
       "        vertical-align: top;\n",
       "    }\n",
       "\n",
       "    .dataframe thead th {\n",
       "        text-align: right;\n",
       "    }\n",
       "</style>\n",
       "<table border=\"1\" class=\"dataframe\">\n",
       "  <thead>\n",
       "    <tr style=\"text-align: right;\">\n",
       "      <th></th>\n",
       "      <th>COUNTY</th>\n",
       "      <th>YEAR</th>\n",
       "      <th>RACE</th>\n",
       "      <th>POP</th>\n",
       "      <th>POP_PROP</th>\n",
       "    </tr>\n",
       "  </thead>\n",
       "  <tbody>\n",
       "    <tr>\n",
       "      <th>0</th>\n",
       "      <td>15County</td>\n",
       "      <td>2010</td>\n",
       "      <td>HH</td>\n",
       "      <td>142849.0</td>\n",
       "      <td>0.032664</td>\n",
       "    </tr>\n",
       "    <tr>\n",
       "      <th>1</th>\n",
       "      <td>15County</td>\n",
       "      <td>2011</td>\n",
       "      <td>HH</td>\n",
       "      <td>73501.0</td>\n",
       "      <td>0.033310</td>\n",
       "    </tr>\n",
       "    <tr>\n",
       "      <th>2</th>\n",
       "      <td>15County</td>\n",
       "      <td>2012</td>\n",
       "      <td>HH</td>\n",
       "      <td>75822.0</td>\n",
       "      <td>0.034059</td>\n",
       "    </tr>\n",
       "    <tr>\n",
       "      <th>3</th>\n",
       "      <td>15County</td>\n",
       "      <td>2013</td>\n",
       "      <td>HH</td>\n",
       "      <td>78700.0</td>\n",
       "      <td>0.034933</td>\n",
       "    </tr>\n",
       "    <tr>\n",
       "      <th>4</th>\n",
       "      <td>15County</td>\n",
       "      <td>2014</td>\n",
       "      <td>HH</td>\n",
       "      <td>81701.0</td>\n",
       "      <td>0.035826</td>\n",
       "    </tr>\n",
       "  </tbody>\n",
       "</table>\n",
       "</div>"
      ],
      "text/plain": [
       "     COUNTY  YEAR RACE       POP  POP_PROP\n",
       "0  15County  2010   HH  142849.0  0.032664\n",
       "1  15County  2011   HH   73501.0  0.033310\n",
       "2  15County  2012   HH   75822.0  0.034059\n",
       "3  15County  2013   HH   78700.0  0.034933\n",
       "4  15County  2014   HH   81701.0  0.035826"
      ]
     },
     "execution_count": 87,
     "metadata": {},
     "output_type": "execute_result"
    }
   ],
   "source": [
    "# Filter the dataset to include only the specified RACE categories, including 'TOT'\n",
    "race_categories = {'NHAA', 'NHBA', 'NHWA', 'NHTOM', 'HH', 'OTHER', 'TOT'}\n",
    "filtered_data = data7[data7['RACE'].isin(race_categories)]\n",
    "\n",
    "# Pivot data to have RACE as columns for easier calculation of proportions\n",
    "pivot_df = filtered_data.pivot_table(index=['COUNTY', 'YEAR'], columns='RACE', values='POP', fill_value=0)\n",
    "\n",
    "# Calculate proportions by dividing each race population by the total population (TOT)\n",
    "for race in ['NHAA', 'NHBA', 'NHWA', 'NHTOM', 'HH', 'OTHER']:\n",
    "    pivot_df[f'{race}_proportion'] = pivot_df[race] / pivot_df['TOT']\n",
    "\n",
    "# Reset index for a more conventional DataFrame format\n",
    "proportions_df = pivot_df.reset_index()\n",
    "\n",
    "# Display the resulting DataFrame\n",
    "proportions_df[['COUNTY', 'YEAR'] + [f'{race}_proportion' for race in ['NHAA', 'NHBA', 'NHWA', 'NHTOM', 'HH', 'OTHER']]]\n",
    "\n",
    "\n",
    "df=proportions_df\n",
    "\n",
    "\n",
    "pop_df = df.melt(id_vars=['COUNTY', 'YEAR'], value_vars=['HH', 'NHAA', 'NHBA', 'NHTOM', 'NHWA', 'OTHER'], \n",
    "                 var_name='RACE', value_name='POP')\n",
    "\n",
    "# Melt the proportion columns to get 'POP_PROP' values for each RACE\n",
    "prop_df = df.melt(id_vars=['COUNTY', 'YEAR'], \n",
    "                  value_vars=['HH_proportion', 'NHAA_proportion', 'NHBA_proportion', 'NHTOM_proportion', 'NHWA_proportion', 'OTHER_proportion'], \n",
    "                  var_name='RACE_PROP', value_name='POP_PROP')\n",
    "\n",
    "# Adjust RACE column in the proportion data to match the format in pop_df\n",
    "prop_df['RACE'] = prop_df['RACE_PROP'].str.replace('_proportion', '')\n",
    "\n",
    "# Merge the two DataFrames on COUNTY, YEAR, and RACE to get POP and POP_PROP in a single DataFrame\n",
    "data8 = pd.merge(pop_df, prop_df[['COUNTY', 'YEAR', 'RACE', 'POP_PROP']], on=['COUNTY', 'YEAR', 'RACE'])\n",
    "\n",
    "data8.to_csv(REGIONAL_SUMMARY_DATA_LABELED_PATH, index=False)\n",
    "\n",
    "data8.head()"
   ]
  },
  {
   "cell_type": "markdown",
   "id": "3dc88d2e-0fa6-4a94-9c28-c2d7b4869efc",
   "metadata": {},
   "source": [
    "### Label map"
   ]
  },
  {
   "cell_type": "code",
   "execution_count": 88,
   "id": "d233ce64-c873-4df4-8a99-24f318882281",
   "metadata": {},
   "outputs": [
    {
     "data": {
      "text/html": [
       "<div>\n",
       "<style scoped>\n",
       "    .dataframe tbody tr th:only-of-type {\n",
       "        vertical-align: middle;\n",
       "    }\n",
       "\n",
       "    .dataframe tbody tr th {\n",
       "        vertical-align: top;\n",
       "    }\n",
       "\n",
       "    .dataframe thead th {\n",
       "        text-align: right;\n",
       "    }\n",
       "</style>\n",
       "<table border=\"1\" class=\"dataframe\">\n",
       "  <thead>\n",
       "    <tr style=\"text-align: right;\">\n",
       "      <th></th>\n",
       "      <th>COUNTY</th>\n",
       "      <th>YEAR</th>\n",
       "      <th>RACE</th>\n",
       "      <th>POP</th>\n",
       "      <th>POP_PROP</th>\n",
       "    </tr>\n",
       "  </thead>\n",
       "  <tbody>\n",
       "    <tr>\n",
       "      <th>0</th>\n",
       "      <td>15County</td>\n",
       "      <td>2010</td>\n",
       "      <td>Hispanic or Latio (any race)</td>\n",
       "      <td>142849.0</td>\n",
       "      <td>0.032664</td>\n",
       "    </tr>\n",
       "    <tr>\n",
       "      <th>1</th>\n",
       "      <td>15County</td>\n",
       "      <td>2011</td>\n",
       "      <td>Hispanic or Latio (any race)</td>\n",
       "      <td>73501.0</td>\n",
       "      <td>0.033310</td>\n",
       "    </tr>\n",
       "    <tr>\n",
       "      <th>2</th>\n",
       "      <td>15County</td>\n",
       "      <td>2012</td>\n",
       "      <td>Hispanic or Latio (any race)</td>\n",
       "      <td>75822.0</td>\n",
       "      <td>0.034059</td>\n",
       "    </tr>\n",
       "    <tr>\n",
       "      <th>3</th>\n",
       "      <td>15County</td>\n",
       "      <td>2013</td>\n",
       "      <td>Hispanic or Latio (any race)</td>\n",
       "      <td>78700.0</td>\n",
       "      <td>0.034933</td>\n",
       "    </tr>\n",
       "    <tr>\n",
       "      <th>4</th>\n",
       "      <td>15County</td>\n",
       "      <td>2014</td>\n",
       "      <td>Hispanic or Latio (any race)</td>\n",
       "      <td>81701.0</td>\n",
       "      <td>0.035826</td>\n",
       "    </tr>\n",
       "  </tbody>\n",
       "</table>\n",
       "</div>"
      ],
      "text/plain": [
       "     COUNTY  YEAR                          RACE       POP  POP_PROP\n",
       "0  15County  2010  Hispanic or Latio (any race)  142849.0  0.032664\n",
       "1  15County  2011  Hispanic or Latio (any race)   73501.0  0.033310\n",
       "2  15County  2012  Hispanic or Latio (any race)   75822.0  0.034059\n",
       "3  15County  2013  Hispanic or Latio (any race)   78700.0  0.034933\n",
       "4  15County  2014  Hispanic or Latio (any race)   81701.0  0.035826"
      ]
     },
     "execution_count": 88,
     "metadata": {},
     "output_type": "execute_result"
    }
   ],
   "source": [
    "# Now, filter out records where RACE is NOT in the specified set\n",
    "filtered_data = data8[data8['RACE'].isin(['NHAA', 'NHBA', 'NHWA', 'NHTOM', 'HH', 'OTHER'])]\n",
    "\n",
    "# Define a comprehensive mapping of race abbreviations to full race names\n",
    "race_mapping = {\n",
    "    \"NHAA\": \"Asian\",\n",
    "    \"HH\": \"Hispanic or Latio (any race)\",\n",
    "    \"NHBA\": \"Black or African American\",\n",
    "    \"OTHER\": \"Some other race alone\",\n",
    "    \"NHTOM\": \"Two or more races\",\n",
    "    \"NHWA\": \"White\"\n",
    "}\n",
    "\n",
    "# Apply the mapping to the 'RACE' column\n",
    "filtered_data['RACE'] = filtered_data['RACE'].map(race_mapping).fillna(filtered_data['RACE'])\n",
    "\n",
    "filtered_data.to_csv(REGIONAL_SUMMARY_DATA_LABELED_PATH, index=False)\n",
    "\n",
    "# Display the first few rows of the updated data\n",
    "filtered_data.head()"
   ]
  },
  {
   "cell_type": "markdown",
   "id": "f3c55b7f-0a9f-4cfe-9a8b-d73f1ff491a6",
   "metadata": {},
   "source": [
    "## Garphing"
   ]
  },
  {
   "cell_type": "markdown",
   "id": "51827fa3-3464-4fca-8512-175a503a6fc2",
   "metadata": {},
   "source": [
    "### Creating images for each region"
   ]
  },
  {
   "cell_type": "code",
   "execution_count": 102,
   "id": "c19f898e-9351-431c-9d09-491daa46a256",
   "metadata": {},
   "outputs": [
    {
     "data": {
      "text/plain": [
       "'AGO_County_ItemID_Mapping.csv'"
      ]
     },
     "execution_count": 102,
     "metadata": {},
     "output_type": "execute_result"
    }
   ],
   "source": [
    "import matplotlib.pyplot as plt\n",
    "\n",
    "# Load the uploaded file to review its content\n",
    "file_path =REGIONAL_SUMMARY_DATA_LABELED_PATH\n",
    "\n",
    "# Load the data from the CSV file\n",
    "data = pd.read_csv(file_path)\n",
    "\n",
    "# Set up output directory\n",
    "output_dir = 'outputData/plots'\n",
    "\n",
    "os.makedirs(output_dir, exist_ok=True)\n",
    "\n",
    "# Dictionary to store COUNTY to itemID mapping\n",
    "county_item_mapping = {}\n",
    "\n",
    "# Iterate over each county\n",
    "for county in data['COUNTY'].unique():\n",
    "    county_data = data[data['COUNTY'] == county]\n",
    "    \n",
    "    # Ensure 'YEAR', 'POP_PROP', and 'RACE' columns are present\n",
    "    county_data = county_data[['YEAR', 'POP_PROP', 'RACE']]\n",
    "    \n",
    "    # Aggregate to handle duplicates by taking the mean\n",
    "    county_data = county_data.groupby(['YEAR', 'RACE'], as_index=False).agg({'POP_PROP': 'mean'})\n",
    "    \n",
    "    # Pivot data to have 'RACE' as columns for plotting\n",
    "    county_data_pivot = county_data.pivot(index='YEAR', columns='RACE', values='POP_PROP')\n",
    "    \n",
    "    # Plot each county's data with adjacent bars\n",
    "    plt.figure(figsize=(16, 9))\n",
    "    bar_width = 0.15  # Reduced width for better spacing\n",
    "    x_positions = range(len(county_data_pivot.index))\n",
    "    \n",
    "    # Improved color palette\n",
    "    colors = ['#365072', '#34617A', '#0075BF', '#00B2BF', '#2A7F67', '#5AB65F']\n",
    "    \n",
    "    for i, (race, color) in enumerate(zip(county_data_pivot.columns, colors)):\n",
    "        plt.bar(\n",
    "            [x + i * bar_width for x in x_positions],\n",
    "            county_data_pivot[race],\n",
    "            width=bar_width,\n",
    "            label=race,\n",
    "            color=color\n",
    "        )\n",
    "    \n",
    "    # Adjust text sizes\n",
    "    plt.title(f\"{county} Population Over Time (By Race/Ethnicity)\", fontsize=25, pad=20)  # Larger title with padding\n",
    "    plt.ylabel(\"Population Proportion\", fontsize=20)  \n",
    "    plt.xticks(\n",
    "        [x + bar_width * (len(county_data_pivot.columns) - 1) / 2 for x in x_positions], \n",
    "        county_data_pivot.index, \n",
    "        rotation=30,  # Slightly tilt labels\n",
    "        fontsize=18  # Larger tick labels\n",
    "    )\n",
    "    plt.yticks(fontsize=18)  # Larger y-axis tick labels\n",
    "    plt.grid(axis='y', linestyle='--', alpha=0.7)  # Add light grid lines for y-axis\n",
    "    plt.legend(\n",
    "        loc='upper center', \n",
    "        bbox_to_anchor=(0.5, -0.12),  # Add more padding below the chart for legend\n",
    "        ncol=3,  # Limit to 3 columns for compactness\n",
    "        fontsize=20,  # Larger legend text\n",
    "        title_fontsize=16  # Larger legend title\n",
    "    )\n",
    "    \n",
    "    # Save the plot as a PNG file and add to mapping\n",
    "    plot_path = os.path.join(output_dir, f\"{county}_population_over_time_adjacent_V2.png\")\n",
    "    plt.savefig(plot_path, bbox_inches='tight')  # Use bbox_inches to avoid cropping\n",
    "    plt.close()\n",
    "    \n",
    "    # Placeholder ID for demonstration as upload to AGO isn't performed here\n",
    "    county_item_mapping[county] = f\"simulated_item_id_for_{county}\"\n",
    "\n",
    "\n",
    "# Convert the dictionary to a DataFrame and save\n",
    "mapping_df = pd.DataFrame(list(county_item_mapping.items()), columns=['COUNTY', 'itemID'])\n",
    "mapping_file_path = 'AGO_County_ItemID_Mapping.csv'\n",
    "mapping_df.to_csv(mapping_file_path, index=False)\n",
    "\n",
    "mapping_file_path"
   ]
  },
  {
   "cell_type": "markdown",
   "id": "1a8ab9af-050e-4152-bedd-1d37e764727a",
   "metadata": {},
   "source": [
    "### Creating Excel sheet and viz for each region"
   ]
  },
  {
   "cell_type": "code",
   "execution_count": 98,
   "id": "e9e9072b-5a76-453b-bf1d-7707c2f39428",
   "metadata": {},
   "outputs": [],
   "source": [
    "# Load the uploaded file to review its content\n",
    "file_path =REGIONAL_SUMMARY_DATA_LABELED_PATH\n",
    "\n",
    "# Load the data from the CSV file\n",
    "data = pd.read_csv(file_path)\n",
    "\n",
    "# Create an Excel writer object\n",
    "with pd.ExcelWriter('outputData/plots/county_line_charts.xlsx', engine='xlsxwriter') as writer:\n",
    "    \n",
    "    # Loop through each unique county and create a chart\n",
    "    for county in data['COUNTY'].unique():\n",
    "        county_data = data[data['COUNTY'] == county]\n",
    "        \n",
    "        \n",
    "        # Ensure 'YEAR', 'POP', and 'RACE' columns are present\n",
    "        county_data = county_data[['YEAR', 'POP_PROP', 'RACE']]\n",
    "        \n",
    "        # Aggregate to handle duplicates by taking the mean or sum\n",
    "        county_data = county_data.groupby(['YEAR', 'RACE'], as_index=False).agg({'POP_PROP': 'mean'})\n",
    "        \n",
    "        # Pivot data to have 'RACE' as columns for plotting\n",
    "        county_data_pivot = county_data.pivot(index='YEAR', columns='RACE', values='POP_PROP')\n",
    "        \n",
    "        # Create a line chart for the current county with a line for each RACE\n",
    "        morpc.data_chart_to_excel(\n",
    "            df=county_data_pivot,\n",
    "            writer=writer,\n",
    "            sheet_name=county,\n",
    "            chartType='line',\n",
    "            chartOptions={\n",
    "                \"titles\": {\n",
    "                    \"chartTitle\": f\"{county} Population Over Time\",\n",
    "                    \"xTitle\": \"Year\",\n",
    "                    \"yTitle\": \"Population Proportion\"\n",
    "                },\n",
    "                \"legendOptions\": {\n",
    "                    \"position\": \"bottom\"\n",
    "                }\n",
    "            }\n",
    "        )\n"
   ]
  },
  {
   "cell_type": "markdown",
   "id": "c9a173d1-9cac-4731-a8c3-43d620bdb1ef",
   "metadata": {},
   "source": [
    "### Uploading images to AGO"
   ]
  },
  {
   "cell_type": "code",
   "execution_count": 103,
   "id": "b720f072-4514-45d0-9517-7205802ba9c0",
   "metadata": {
    "scrolled": true
   },
   "outputs": [
    {
     "name": "stdout",
     "output_type": "stream",
     "text": [
      "Deleted existing item with title: 15County population over time adjacent V2\n"
     ]
    },
    {
     "name": "stderr",
     "output_type": "stream",
     "text": [
      "C:\\Users\\ogwynn\\newvirt\\Lib\\site-packages\\IPython\\core\\interactiveshell.py:3577: DeprecatedWarning: add is deprecated as of 2.3.0 and has been removed in 3.0.0. Use `Folder.add()` instead.\n",
      "  exec(code_obj, self.user_global_ns, self.user_ns)\n",
      "C:\\Users\\ogwynn\\newvirt\\Lib\\site-packages\\IPython\\core\\interactiveshell.py:3577: DeprecatedWarning: share is deprecated as of 2.3.0 and has been removed in 3.0.0. Use `Item.sharing` instead.\n",
      "  exec(code_obj, self.user_global_ns, self.user_ns)\n"
     ]
    },
    {
     "name": "stdout",
     "output_type": "stream",
     "text": [
      "Uploaded 15County_population_over_time_adjacent_V2.png with item ID: 55860101439840ff8ae7daa8f056935e and set it to public\n",
      "Deleted existing item with title: Delaware population over time adjacent V2\n"
     ]
    },
    {
     "name": "stderr",
     "output_type": "stream",
     "text": [
      "C:\\Users\\ogwynn\\newvirt\\Lib\\site-packages\\IPython\\core\\interactiveshell.py:3577: DeprecatedWarning: add is deprecated as of 2.3.0 and has been removed in 3.0.0. Use `Folder.add()` instead.\n",
      "  exec(code_obj, self.user_global_ns, self.user_ns)\n",
      "C:\\Users\\ogwynn\\newvirt\\Lib\\site-packages\\IPython\\core\\interactiveshell.py:3577: DeprecatedWarning: share is deprecated as of 2.3.0 and has been removed in 3.0.0. Use `Item.sharing` instead.\n",
      "  exec(code_obj, self.user_global_ns, self.user_ns)\n"
     ]
    },
    {
     "name": "stdout",
     "output_type": "stream",
     "text": [
      "Uploaded Delaware_population_over_time_adjacent_V2.png with item ID: d2c5a23b0e544cb2a3296a6169f0c038 and set it to public\n",
      "Deleted existing item with title: Fairfield population over time adjacent V2\n"
     ]
    },
    {
     "name": "stderr",
     "output_type": "stream",
     "text": [
      "C:\\Users\\ogwynn\\newvirt\\Lib\\site-packages\\IPython\\core\\interactiveshell.py:3577: DeprecatedWarning: add is deprecated as of 2.3.0 and has been removed in 3.0.0. Use `Folder.add()` instead.\n",
      "  exec(code_obj, self.user_global_ns, self.user_ns)\n",
      "C:\\Users\\ogwynn\\newvirt\\Lib\\site-packages\\IPython\\core\\interactiveshell.py:3577: DeprecatedWarning: share is deprecated as of 2.3.0 and has been removed in 3.0.0. Use `Item.sharing` instead.\n",
      "  exec(code_obj, self.user_global_ns, self.user_ns)\n"
     ]
    },
    {
     "name": "stdout",
     "output_type": "stream",
     "text": [
      "Uploaded Fairfield_population_over_time_adjacent_V2.png with item ID: b9e2507357974c9183492d9d6ae81dbc and set it to public\n",
      "Deleted existing item with title: Fayette population over time adjacent V2\n"
     ]
    },
    {
     "name": "stderr",
     "output_type": "stream",
     "text": [
      "C:\\Users\\ogwynn\\newvirt\\Lib\\site-packages\\IPython\\core\\interactiveshell.py:3577: DeprecatedWarning: add is deprecated as of 2.3.0 and has been removed in 3.0.0. Use `Folder.add()` instead.\n",
      "  exec(code_obj, self.user_global_ns, self.user_ns)\n",
      "C:\\Users\\ogwynn\\newvirt\\Lib\\site-packages\\IPython\\core\\interactiveshell.py:3577: DeprecatedWarning: share is deprecated as of 2.3.0 and has been removed in 3.0.0. Use `Item.sharing` instead.\n",
      "  exec(code_obj, self.user_global_ns, self.user_ns)\n"
     ]
    },
    {
     "name": "stdout",
     "output_type": "stream",
     "text": [
      "Uploaded Fayette_population_over_time_adjacent_V2.png with item ID: 7a024aa0eeb34c359f817e19673f517c and set it to public\n",
      "Deleted existing item with title: Franklin population over time adjacent V2\n"
     ]
    },
    {
     "name": "stderr",
     "output_type": "stream",
     "text": [
      "C:\\Users\\ogwynn\\newvirt\\Lib\\site-packages\\IPython\\core\\interactiveshell.py:3577: DeprecatedWarning: add is deprecated as of 2.3.0 and has been removed in 3.0.0. Use `Folder.add()` instead.\n",
      "  exec(code_obj, self.user_global_ns, self.user_ns)\n",
      "C:\\Users\\ogwynn\\newvirt\\Lib\\site-packages\\IPython\\core\\interactiveshell.py:3577: DeprecatedWarning: share is deprecated as of 2.3.0 and has been removed in 3.0.0. Use `Item.sharing` instead.\n",
      "  exec(code_obj, self.user_global_ns, self.user_ns)\n"
     ]
    },
    {
     "name": "stdout",
     "output_type": "stream",
     "text": [
      "Uploaded Franklin_population_over_time_adjacent_V2.png with item ID: 333efed0989d48ce8604bc58e2f60584 and set it to public\n",
      "Deleted existing item with title: Hocking population over time adjacent V2\n"
     ]
    },
    {
     "name": "stderr",
     "output_type": "stream",
     "text": [
      "C:\\Users\\ogwynn\\newvirt\\Lib\\site-packages\\IPython\\core\\interactiveshell.py:3577: DeprecatedWarning: add is deprecated as of 2.3.0 and has been removed in 3.0.0. Use `Folder.add()` instead.\n",
      "  exec(code_obj, self.user_global_ns, self.user_ns)\n",
      "C:\\Users\\ogwynn\\newvirt\\Lib\\site-packages\\IPython\\core\\interactiveshell.py:3577: DeprecatedWarning: share is deprecated as of 2.3.0 and has been removed in 3.0.0. Use `Item.sharing` instead.\n",
      "  exec(code_obj, self.user_global_ns, self.user_ns)\n"
     ]
    },
    {
     "name": "stdout",
     "output_type": "stream",
     "text": [
      "Uploaded Hocking_population_over_time_adjacent_V2.png with item ID: 4ff39dd635934feca8843296aacc4deb and set it to public\n",
      "Deleted existing item with title: Knox population over time adjacent V2\n"
     ]
    },
    {
     "name": "stderr",
     "output_type": "stream",
     "text": [
      "C:\\Users\\ogwynn\\newvirt\\Lib\\site-packages\\IPython\\core\\interactiveshell.py:3577: DeprecatedWarning: add is deprecated as of 2.3.0 and has been removed in 3.0.0. Use `Folder.add()` instead.\n",
      "  exec(code_obj, self.user_global_ns, self.user_ns)\n",
      "C:\\Users\\ogwynn\\newvirt\\Lib\\site-packages\\IPython\\core\\interactiveshell.py:3577: DeprecatedWarning: share is deprecated as of 2.3.0 and has been removed in 3.0.0. Use `Item.sharing` instead.\n",
      "  exec(code_obj, self.user_global_ns, self.user_ns)\n"
     ]
    },
    {
     "name": "stdout",
     "output_type": "stream",
     "text": [
      "Uploaded Knox_population_over_time_adjacent_V2.png with item ID: 7fdfbcc0540a4f19b847be9cb881db67 and set it to public\n",
      "Deleted existing item with title: Licking population over time adjacent V2\n"
     ]
    },
    {
     "name": "stderr",
     "output_type": "stream",
     "text": [
      "C:\\Users\\ogwynn\\newvirt\\Lib\\site-packages\\IPython\\core\\interactiveshell.py:3577: DeprecatedWarning: add is deprecated as of 2.3.0 and has been removed in 3.0.0. Use `Folder.add()` instead.\n",
      "  exec(code_obj, self.user_global_ns, self.user_ns)\n",
      "C:\\Users\\ogwynn\\newvirt\\Lib\\site-packages\\IPython\\core\\interactiveshell.py:3577: DeprecatedWarning: share is deprecated as of 2.3.0 and has been removed in 3.0.0. Use `Item.sharing` instead.\n",
      "  exec(code_obj, self.user_global_ns, self.user_ns)\n"
     ]
    },
    {
     "name": "stdout",
     "output_type": "stream",
     "text": [
      "Uploaded Licking_population_over_time_adjacent_V2.png with item ID: 5577056c2bef4dbebfa6dd1bba770405 and set it to public\n",
      "Deleted existing item with title: Logan population over time adjacent V2\n"
     ]
    },
    {
     "name": "stderr",
     "output_type": "stream",
     "text": [
      "C:\\Users\\ogwynn\\newvirt\\Lib\\site-packages\\IPython\\core\\interactiveshell.py:3577: DeprecatedWarning: add is deprecated as of 2.3.0 and has been removed in 3.0.0. Use `Folder.add()` instead.\n",
      "  exec(code_obj, self.user_global_ns, self.user_ns)\n",
      "C:\\Users\\ogwynn\\newvirt\\Lib\\site-packages\\IPython\\core\\interactiveshell.py:3577: DeprecatedWarning: share is deprecated as of 2.3.0 and has been removed in 3.0.0. Use `Item.sharing` instead.\n",
      "  exec(code_obj, self.user_global_ns, self.user_ns)\n"
     ]
    },
    {
     "name": "stdout",
     "output_type": "stream",
     "text": [
      "Uploaded Logan_population_over_time_adjacent_V2.png with item ID: 990d0a1714c4401a82f57314f3e21e6b and set it to public\n",
      "Deleted existing item with title: Madison population over time adjacent V2\n"
     ]
    },
    {
     "name": "stderr",
     "output_type": "stream",
     "text": [
      "C:\\Users\\ogwynn\\newvirt\\Lib\\site-packages\\IPython\\core\\interactiveshell.py:3577: DeprecatedWarning: add is deprecated as of 2.3.0 and has been removed in 3.0.0. Use `Folder.add()` instead.\n",
      "  exec(code_obj, self.user_global_ns, self.user_ns)\n",
      "C:\\Users\\ogwynn\\newvirt\\Lib\\site-packages\\IPython\\core\\interactiveshell.py:3577: DeprecatedWarning: share is deprecated as of 2.3.0 and has been removed in 3.0.0. Use `Item.sharing` instead.\n",
      "  exec(code_obj, self.user_global_ns, self.user_ns)\n"
     ]
    },
    {
     "name": "stdout",
     "output_type": "stream",
     "text": [
      "Uploaded Madison_population_over_time_adjacent_V2.png with item ID: 53cca50c095141ca9ba4b9756693a53a and set it to public\n",
      "Deleted existing item with title: Marion population over time adjacent V2\n"
     ]
    },
    {
     "name": "stderr",
     "output_type": "stream",
     "text": [
      "C:\\Users\\ogwynn\\newvirt\\Lib\\site-packages\\IPython\\core\\interactiveshell.py:3577: DeprecatedWarning: add is deprecated as of 2.3.0 and has been removed in 3.0.0. Use `Folder.add()` instead.\n",
      "  exec(code_obj, self.user_global_ns, self.user_ns)\n",
      "C:\\Users\\ogwynn\\newvirt\\Lib\\site-packages\\IPython\\core\\interactiveshell.py:3577: DeprecatedWarning: share is deprecated as of 2.3.0 and has been removed in 3.0.0. Use `Item.sharing` instead.\n",
      "  exec(code_obj, self.user_global_ns, self.user_ns)\n"
     ]
    },
    {
     "name": "stdout",
     "output_type": "stream",
     "text": [
      "Uploaded Marion_population_over_time_adjacent_V2.png with item ID: 79b9fe6c778e4ea88c305f8e830caac2 and set it to public\n",
      "Deleted existing item with title: Morrow population over time adjacent V2\n"
     ]
    },
    {
     "name": "stderr",
     "output_type": "stream",
     "text": [
      "C:\\Users\\ogwynn\\newvirt\\Lib\\site-packages\\IPython\\core\\interactiveshell.py:3577: DeprecatedWarning: add is deprecated as of 2.3.0 and has been removed in 3.0.0. Use `Folder.add()` instead.\n",
      "  exec(code_obj, self.user_global_ns, self.user_ns)\n",
      "C:\\Users\\ogwynn\\newvirt\\Lib\\site-packages\\IPython\\core\\interactiveshell.py:3577: DeprecatedWarning: share is deprecated as of 2.3.0 and has been removed in 3.0.0. Use `Item.sharing` instead.\n",
      "  exec(code_obj, self.user_global_ns, self.user_ns)\n"
     ]
    },
    {
     "name": "stdout",
     "output_type": "stream",
     "text": [
      "Uploaded Morrow_population_over_time_adjacent_V2.png with item ID: c68ce94744aa422896447397c11c6679 and set it to public\n",
      "Deleted existing item with title: Perry population over time adjacent V2\n"
     ]
    },
    {
     "name": "stderr",
     "output_type": "stream",
     "text": [
      "C:\\Users\\ogwynn\\newvirt\\Lib\\site-packages\\IPython\\core\\interactiveshell.py:3577: DeprecatedWarning: add is deprecated as of 2.3.0 and has been removed in 3.0.0. Use `Folder.add()` instead.\n",
      "  exec(code_obj, self.user_global_ns, self.user_ns)\n",
      "C:\\Users\\ogwynn\\newvirt\\Lib\\site-packages\\IPython\\core\\interactiveshell.py:3577: DeprecatedWarning: share is deprecated as of 2.3.0 and has been removed in 3.0.0. Use `Item.sharing` instead.\n",
      "  exec(code_obj, self.user_global_ns, self.user_ns)\n"
     ]
    },
    {
     "name": "stdout",
     "output_type": "stream",
     "text": [
      "Uploaded Perry_population_over_time_adjacent_V2.png with item ID: 7cb2f994eec24c5a8828e2f354bd6ce4 and set it to public\n",
      "Deleted existing item with title: Pickaway population over time adjacent V2\n"
     ]
    },
    {
     "name": "stderr",
     "output_type": "stream",
     "text": [
      "C:\\Users\\ogwynn\\newvirt\\Lib\\site-packages\\IPython\\core\\interactiveshell.py:3577: DeprecatedWarning: add is deprecated as of 2.3.0 and has been removed in 3.0.0. Use `Folder.add()` instead.\n",
      "  exec(code_obj, self.user_global_ns, self.user_ns)\n",
      "C:\\Users\\ogwynn\\newvirt\\Lib\\site-packages\\IPython\\core\\interactiveshell.py:3577: DeprecatedWarning: share is deprecated as of 2.3.0 and has been removed in 3.0.0. Use `Item.sharing` instead.\n",
      "  exec(code_obj, self.user_global_ns, self.user_ns)\n"
     ]
    },
    {
     "name": "stdout",
     "output_type": "stream",
     "text": [
      "Uploaded Pickaway_population_over_time_adjacent_V2.png with item ID: 1a8467e4e8454999a9d929839495eb8a and set it to public\n",
      "Deleted existing item with title: Ross population over time adjacent V2\n"
     ]
    },
    {
     "name": "stderr",
     "output_type": "stream",
     "text": [
      "C:\\Users\\ogwynn\\newvirt\\Lib\\site-packages\\IPython\\core\\interactiveshell.py:3577: DeprecatedWarning: add is deprecated as of 2.3.0 and has been removed in 3.0.0. Use `Folder.add()` instead.\n",
      "  exec(code_obj, self.user_global_ns, self.user_ns)\n",
      "C:\\Users\\ogwynn\\newvirt\\Lib\\site-packages\\IPython\\core\\interactiveshell.py:3577: DeprecatedWarning: share is deprecated as of 2.3.0 and has been removed in 3.0.0. Use `Item.sharing` instead.\n",
      "  exec(code_obj, self.user_global_ns, self.user_ns)\n"
     ]
    },
    {
     "name": "stdout",
     "output_type": "stream",
     "text": [
      "Uploaded Ross_population_over_time_adjacent_V2.png with item ID: d3d2353c32a14ea7b0af5509098e7449 and set it to public\n",
      "Deleted existing item with title: Union population over time adjacent V2\n"
     ]
    },
    {
     "name": "stderr",
     "output_type": "stream",
     "text": [
      "C:\\Users\\ogwynn\\newvirt\\Lib\\site-packages\\IPython\\core\\interactiveshell.py:3577: DeprecatedWarning: add is deprecated as of 2.3.0 and has been removed in 3.0.0. Use `Folder.add()` instead.\n",
      "  exec(code_obj, self.user_global_ns, self.user_ns)\n",
      "C:\\Users\\ogwynn\\newvirt\\Lib\\site-packages\\IPython\\core\\interactiveshell.py:3577: DeprecatedWarning: share is deprecated as of 2.3.0 and has been removed in 3.0.0. Use `Item.sharing` instead.\n",
      "  exec(code_obj, self.user_global_ns, self.user_ns)\n"
     ]
    },
    {
     "name": "stdout",
     "output_type": "stream",
     "text": [
      "Uploaded Union_population_over_time_adjacent_V2.png with item ID: 0ca64b1e0f6e475fb589973b15aacf76 and set it to public\n"
     ]
    }
   ],
   "source": [
    "import time\n",
    "from arcgis.gis import GIS\n",
    "import os\n",
    "import pandas as pd\n",
    "\n",
    "# Connect to ArcGIS Online\n",
    "gis = GIS(\"https://www.arcgis.com\", \"ogwynn_morpc\", \"Cr33p3r11!!\")\n",
    "\n",
    "# Directory where images are saved\n",
    "output_dir = 'outputData/plots'\n",
    "\n",
    "# Initialize dictionary to store county-item mappings\n",
    "county_item_mapping = {}\n",
    "\n",
    "# Loop through each file in the directory and upload it\n",
    "for filename in os.listdir(output_dir):\n",
    "    if filename.endswith(\".png\"):\n",
    "        file_path = os.path.join(output_dir, filename)\n",
    "        \n",
    "        # Define item properties\n",
    "        title = filename.replace(\"_\", \" \").replace(\".png\", \"\")\n",
    "        county_name = filename.split('_')[0]  # Extract county name from the filename\n",
    "        item_properties = {\n",
    "            \"title\": title,\n",
    "            \"tags\": \"county, population, race, demographics\",\n",
    "            \"description\": f\"Population proportion over time by race for {county_name} county.\",\n",
    "            \"type\": \"Image\"\n",
    "        }\n",
    "        \n",
    "        # Search for an existing item with the same title\n",
    "        existing_items = gis.content.search(query=title, item_type=\"Image\", max_items=1)\n",
    "        if existing_items:\n",
    "            # If an existing item is found, delete it\n",
    "            existing_item = existing_items[0]\n",
    "            existing_item.delete()\n",
    "            print(f\"Deleted existing item with title: {title}\")\n",
    "            time.sleep(2)  # Wait for 2 seconds before uploading the new item\n",
    "\n",
    "\n",
    "        try:\n",
    "            # Upload the new image\n",
    "            image_item = gis.content.add(item_properties, data=file_path)\n",
    "            \n",
    "            # Make the item public\n",
    "            image_item.share(everyone=True)\n",
    "\n",
    "            # Store item ID in the dictionary\n",
    "            county_item_mapping[county_name] = f\"https://morpc.maps.arcgis.com/sharing/rest/content/items/{image_item.id}/data\"\n",
    "            \n",
    "            # Print confirmation\n",
    "            print(f\"Uploaded {filename} with item ID: {image_item.id} and set it to public\")\n",
    "        \n",
    "        except Exception as e:\n",
    "            print(f\"Error uploading {filename}: {e}\")\n",
    "\n",
    "# Convert the dictionary to a DataFrame and save\n",
    "mapping_df = pd.DataFrame(list(county_item_mapping.items()), columns=['COUNTY', 'itemID'])\n",
    "mapping_file_path = 'AGO_County_ItemID_Mapping.csv'\n",
    "mapping_df.to_csv(mapping_file_path, index=False)\n",
    "\n"
   ]
  },
  {
   "cell_type": "markdown",
   "id": "ecbb8353-651b-4ac3-80c7-975dc6ce3693",
   "metadata": {},
   "source": [
    "### Update Metadata Local"
   ]
  },
  {
   "cell_type": "code",
   "execution_count": 104,
   "id": "708c8f20-56ec-4e3b-84d2-a494aba004a0",
   "metadata": {},
   "outputs": [
    {
     "name": "stderr",
     "output_type": "stream",
     "text": [
      "C:\\Users\\ogwynn\\newvirt\\Lib\\site-packages\\openpyxl\\packaging\\core.py:99: DeprecationWarning: datetime.datetime.utcnow() is deprecated and scheduled for removal in a future version. Use timezone-aware objects to represent datetimes in UTC: datetime.datetime.now(datetime.UTC).\n",
      "  now = datetime.datetime.utcnow()\n"
     ]
    },
    {
     "name": "stdout",
     "output_type": "stream",
     "text": [
      "Updated item Insights_Metadata with new data.\n"
     ]
    }
   ],
   "source": [
    "from arcgis.gis import GIS\n",
    "import pandas as pd\n",
    "import os\n",
    "\n",
    "# Connect to ArcGIS Online\n",
    "gis = GIS(\"https://www.arcgis.com\", \"ogwynn_morpc\", \"Cr33p3r11!!\")\n",
    "\n",
    "# Access the existing Excel item by its itemID and download it\n",
    "item_id = \"012c09a5e5344954a573a1677a441e78\"\n",
    "excel_item = gis.content.get(item_id)\n",
    "\n",
    "# Download the existing Excel file\n",
    "download_path = excel_item.download(save_path=\"inputData/\")\n",
    "existing_df = pd.read_excel(download_path)\n",
    "\n",
    "# Load the mapping CSV file (created earlier with COUNTY to itemID mappings)\n",
    "mapping_file_path = 'AGO_County_ItemID_Mapping.csv'\n",
    "mapping_df = pd.read_csv(mapping_file_path)\n",
    "\n",
    "\n",
    "# Define a function to determine 'RegionType' based on 'COUNTY'\n",
    "def determine_region_type(county):\n",
    "    if county == '15County':\n",
    "        return 'Region-Level'\n",
    "    elif county in [\n",
    "        'Delaware', 'Fairfield', 'Fayette', 'Franklin', 'Hocking', 'Knox',\n",
    "        'Licking', 'Logan', 'Madison', 'Marion', 'Morrow', 'Perry', \n",
    "        'Pickaway', 'Ross', 'Union'\n",
    "    ]:\n",
    "        return 'County-Level'\n",
    "    else:\n",
    "        return 'Community-Level'\n",
    "\n",
    "# Add new columns to mapping for 'Image', 'RegionType', and 'RegionName'\n",
    "mapping_df['Image_'] = mapping_df['itemID']\n",
    "mapping_df['RegionType'] = mapping_df['COUNTY'].apply(determine_region_type)\n",
    "mapping_df['RegionName'] = mapping_df['COUNTY']\n",
    "\n",
    "# Select the relevant columns from the mapping DataFrame to append to the existing Excel data\n",
    "mapping_to_append = mapping_df[['Image_', 'RegionType', 'RegionName']]\n",
    "\n",
    "# Append the new rows to the existing DataFrame\n",
    "updated_df = pd.concat([existing_df, mapping_to_append], ignore_index=True)\n",
    "\n",
    "# Save the updated DataFrame to a new Excel file\n",
    "updated_file_path = 'outputData/Insights_Metadata.xlsx'\n",
    "updated_df.to_excel(updated_file_path, index=False)\n",
    "\n",
    "# Update the item with the new file\n",
    "excel_item.update({}, updated_file_path)\n",
    "\n",
    "# Confirm the update\n",
    "print(f\"Updated item {excel_item.title} with new data.\")\n"
   ]
  },
  {
   "cell_type": "code",
   "execution_count": 93,
   "id": "c0205778-a44c-4ce6-9ac3-e09a5b689410",
   "metadata": {},
   "outputs": [
    {
     "data": {
      "text/html": [
       "<div>\n",
       "<style scoped>\n",
       "    .dataframe tbody tr th:only-of-type {\n",
       "        vertical-align: middle;\n",
       "    }\n",
       "\n",
       "    .dataframe tbody tr th {\n",
       "        vertical-align: top;\n",
       "    }\n",
       "\n",
       "    .dataframe thead th {\n",
       "        text-align: right;\n",
       "    }\n",
       "</style>\n",
       "<table border=\"1\" class=\"dataframe\">\n",
       "  <thead>\n",
       "    <tr style=\"text-align: right;\">\n",
       "      <th></th>\n",
       "      <th>COUNTY</th>\n",
       "      <th>itemID</th>\n",
       "      <th>Image_</th>\n",
       "      <th>RegionType</th>\n",
       "      <th>RegionName</th>\n",
       "    </tr>\n",
       "  </thead>\n",
       "  <tbody>\n",
       "    <tr>\n",
       "      <th>0</th>\n",
       "      <td>15County</td>\n",
       "      <td>https://morpc.maps.arcgis.com/sharing/rest/con...</td>\n",
       "      <td>https://morpc.maps.arcgis.com/sharing/rest/con...</td>\n",
       "      <td>Region-Level</td>\n",
       "      <td>15County</td>\n",
       "    </tr>\n",
       "    <tr>\n",
       "      <th>1</th>\n",
       "      <td>Delaware</td>\n",
       "      <td>https://morpc.maps.arcgis.com/sharing/rest/con...</td>\n",
       "      <td>https://morpc.maps.arcgis.com/sharing/rest/con...</td>\n",
       "      <td>County-Level</td>\n",
       "      <td>Delaware</td>\n",
       "    </tr>\n",
       "    <tr>\n",
       "      <th>2</th>\n",
       "      <td>Fairfield</td>\n",
       "      <td>https://morpc.maps.arcgis.com/sharing/rest/con...</td>\n",
       "      <td>https://morpc.maps.arcgis.com/sharing/rest/con...</td>\n",
       "      <td>County-Level</td>\n",
       "      <td>Fairfield</td>\n",
       "    </tr>\n",
       "    <tr>\n",
       "      <th>3</th>\n",
       "      <td>Fayette</td>\n",
       "      <td>https://morpc.maps.arcgis.com/sharing/rest/con...</td>\n",
       "      <td>https://morpc.maps.arcgis.com/sharing/rest/con...</td>\n",
       "      <td>County-Level</td>\n",
       "      <td>Fayette</td>\n",
       "    </tr>\n",
       "    <tr>\n",
       "      <th>4</th>\n",
       "      <td>Hocking</td>\n",
       "      <td>https://morpc.maps.arcgis.com/sharing/rest/con...</td>\n",
       "      <td>https://morpc.maps.arcgis.com/sharing/rest/con...</td>\n",
       "      <td>County-Level</td>\n",
       "      <td>Hocking</td>\n",
       "    </tr>\n",
       "  </tbody>\n",
       "</table>\n",
       "</div>"
      ],
      "text/plain": [
       "      COUNTY                                             itemID  \\\n",
       "0   15County  https://morpc.maps.arcgis.com/sharing/rest/con...   \n",
       "1   Delaware  https://morpc.maps.arcgis.com/sharing/rest/con...   \n",
       "2  Fairfield  https://morpc.maps.arcgis.com/sharing/rest/con...   \n",
       "3    Fayette  https://morpc.maps.arcgis.com/sharing/rest/con...   \n",
       "4    Hocking  https://morpc.maps.arcgis.com/sharing/rest/con...   \n",
       "\n",
       "                                              Image_    RegionType RegionName  \n",
       "0  https://morpc.maps.arcgis.com/sharing/rest/con...  Region-Level   15County  \n",
       "1  https://morpc.maps.arcgis.com/sharing/rest/con...  County-Level   Delaware  \n",
       "2  https://morpc.maps.arcgis.com/sharing/rest/con...  County-Level  Fairfield  \n",
       "3  https://morpc.maps.arcgis.com/sharing/rest/con...  County-Level    Fayette  \n",
       "4  https://morpc.maps.arcgis.com/sharing/rest/con...  County-Level    Hocking  "
      ]
     },
     "execution_count": 93,
     "metadata": {},
     "output_type": "execute_result"
    }
   ],
   "source": [
    "mapping_df.head()"
   ]
  },
  {
   "cell_type": "markdown",
   "id": "49b955f2-413a-40ca-8120-3c3f59308512",
   "metadata": {},
   "source": [
    "### Updating Insights Metadata"
   ]
  },
  {
   "cell_type": "code",
   "execution_count": 101,
   "id": "96f0b824-3c8e-48c9-957b-e32a9714383d",
   "metadata": {},
   "outputs": [
    {
     "name": "stdout",
     "output_type": "stream",
     "text": [
      "       COUNTY                                             itemID\n",
      "0    15County  https://morpc.maps.arcgis.com/sharing/rest/con...\n",
      "1    Delaware  https://morpc.maps.arcgis.com/sharing/rest/con...\n",
      "2   Fairfield  https://morpc.maps.arcgis.com/sharing/rest/con...\n",
      "3     Fayette  https://morpc.maps.arcgis.com/sharing/rest/con...\n",
      "4    Franklin  https://morpc.maps.arcgis.com/sharing/rest/con...\n",
      "5     Hocking  https://morpc.maps.arcgis.com/sharing/rest/con...\n",
      "6        Knox  https://morpc.maps.arcgis.com/sharing/rest/con...\n",
      "7     Licking  https://morpc.maps.arcgis.com/sharing/rest/con...\n",
      "8       Logan  https://morpc.maps.arcgis.com/sharing/rest/con...\n",
      "9     Madison  https://morpc.maps.arcgis.com/sharing/rest/con...\n",
      "10     Marion  https://morpc.maps.arcgis.com/sharing/rest/con...\n",
      "11     Morrow  https://morpc.maps.arcgis.com/sharing/rest/con...\n",
      "12      Perry  https://morpc.maps.arcgis.com/sharing/rest/con...\n",
      "13   Pickaway  https://morpc.maps.arcgis.com/sharing/rest/con...\n",
      "14       Ross  https://morpc.maps.arcgis.com/sharing/rest/con...\n",
      "15      Union  https://morpc.maps.arcgis.com/sharing/rest/con...\n",
      "Updates applied to the hosted table on AGO.\n"
     ]
    }
   ],
   "source": [
    "from arcgis.gis import GIS\n",
    "from arcgis.features import FeatureLayer\n",
    "import pandas as pd\n",
    "\n",
    "# Connect to ArcGIS Online\n",
    "gis = GIS(\"https://www.arcgis.com\", \"ogwynn_morpc\", \"Cr33p3r11!!\")\n",
    "\n",
    "# Access the hosted table layer\n",
    "table_item = gis.content.get(\"5997df4c5bab4c3b947b2dfab95104be\")\n",
    "\n",
    "# Access the hosted table layer\n",
    "if table_item.tables:\n",
    "    table_layer = table_item.tables[0]  # Get the first (or only) table in the item\n",
    "else:\n",
    "    raise ValueError(\"No table found in the specified item.\")\n",
    "    \n",
    "# Load the mapping CSV\n",
    "mapping_df = pd.read_csv('AGO_County_ItemID_Mapping.csv')  # Adjust the path as needed\n",
    "\n",
    "# Query existing records in the hosted table\n",
    "existing_features = table_layer.query().features\n",
    "existing_data = pd.DataFrame([feature.attributes for feature in existing_features])\n",
    "\n",
    "# Prepare list to store updates\n",
    "updates = []\n",
    "\n",
    "print(mapping_df)\n",
    "\n",
    "\n",
    "# Iterate through each row in the mapping CSV to check and prepare updates\n",
    "for _, row in mapping_df.iterrows():\n",
    "    county_name = row['COUNTY']\n",
    "    item_id = row['itemID']\n",
    "    \n",
    "    # Determine the values for RegionType and RegionName\n",
    "    if county_name == \"15County\":\n",
    "        region_type = \"Region-Level\"\n",
    "    elif county_name in {\"Delaware\", \"Fairfield\", \"Fayette\", \"Franklin\", \"Hocking\", \"Knox\", \"Licking\", \n",
    "                         \"Logan\", \"Madison\", \"Marion\", \"Morrow\", \"Perry\", \"Pickaway\", \"Ross\", \"Union\"}:\n",
    "        region_type = \"County-Level\"\n",
    "    else:\n",
    "        region_type = \"Community-Level\"\n",
    "    \n",
    "    # Construct the Image URL\n",
    "    image_url = f\"https://morpc.maps.arcgis.com/sharing/rest/content/items/{item_id}/data\"\n",
    "    \n",
    "    # Check if the Image already exists in the hosted table\n",
    "    if (existing_data['Image_'] == image_url).any():\n",
    "        continue  # Skip this row if the Image already exists\n",
    "\n",
    "    # Find the feature to update or prepare a new one\n",
    "    matching_features = existing_data[existing_data['RegionName'] == county_name]\n",
    "    \n",
    "    if not matching_features.empty:\n",
    "        # Update existing feature\n",
    "        feature_to_update = existing_features[matching_features.index[0]]\n",
    "        feature_to_update.attributes.update({\n",
    "            'Image_': image_url,  # Ensure no extra spaces in field names\n",
    "            'RegionType': region_type,\n",
    "            'RegionName': county_name\n",
    "        })\n",
    "        updates.append(feature_to_update)\n",
    "    else:\n",
    "        # Prepare a new feature if no match found\n",
    "        new_feature = {\n",
    "            'attributes': {\n",
    "                'Image_': image_url,\n",
    "                'RegionType': region_type,\n",
    "                'RegionName': county_name\n",
    "            }\n",
    "        }\n",
    "        updates.append(new_feature)\n",
    "\n",
    "# Apply updates to the hosted table\n",
    "if updates:\n",
    "    # Convert features to dictionaries to avoid circular references\n",
    "    updates_dict = [f.as_dict if hasattr(f, 'as_dict') else f for f in updates]\n",
    "    table_layer.edit_features(updates=updates_dict)\n",
    "    print(\"Updates applied to the hosted table on AGO.\")\n",
    "else:\n",
    "    print(\"No updates needed. All entries are up-to-date.\")\n"
   ]
  }
 ],
 "metadata": {
  "kernelspec": {
   "display_name": "Python 3 (ipykernel)",
   "language": "python",
   "name": "python3"
  },
  "language_info": {
   "codemirror_mode": {
    "name": "ipython",
    "version": 3
   },
   "file_extension": ".py",
   "mimetype": "text/x-python",
   "name": "python",
   "nbconvert_exporter": "python",
   "pygments_lexer": "ipython3",
   "version": "3.12.7"
  }
 },
 "nbformat": 4,
 "nbformat_minor": 5
}
